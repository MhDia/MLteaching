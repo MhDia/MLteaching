{
 "cells": [
  {
   "cell_type": "markdown",
   "metadata": {},
   "source": [
    "# Overview of Class Imbalance\n",
    "> Note: This is a preliminary document that is supposed to give an overview of the class imbalance problem and suggest some solutions for internal use among course instructors. A more pedagogical version with code snippets or an extended blog post can be built on it later on for external use. "
   ]
  },
  {
   "cell_type": "markdown",
   "metadata": {},
   "source": [
    "## A. Why class imbalance is a problem?"
   ]
  },
  {
   "cell_type": "markdown",
   "metadata": {},
   "source": [
    "Training an ML algorithm with imbalanced dataset might **create a learning bias** against the minority class(es) and consequently **affect the predictive performance** on such class(es). This is because most of the ML algorithms inherently assume balanced dataset and equal costs of errors (i.e. the cost of a false alarm is the same as the cost of a miss). Furthermore, the **performance evaluation under class-imbalance becomes more challenging**, especially when different errors are perceived with different degrees of importance (e.g. in medical applications the cost of a miss is much higher than that of a false alarm while diagnosing a fatal disease, and such costs can not be always quantified). In this case standard metrics such as accuracy, and sometimes AUROC, become less informative and even misleading in some high imbalance situations. Therefore, it is very essential to understand the effects of class imbalance on learning algorithms and examine how one can mitigate such effects and perform informative evaluations. We will start first by investigating the problems arising with the class imbalance."
   ]
  },
  {
   "cell_type": "markdown",
   "metadata": {},
   "source": [
    "### A.1 Prior bias (in the case of prior distribution drift between training and testing): <a name=\"A1\"></a>"
   ]
  },
  {
   "cell_type": "markdown",
   "metadata": {},
   "source": [
    "This is a problem arising in special circumstances where the class imbalance is not expected to be the same during training and testing. For instance, assume we are running a binary classification on cats and dogs images. For some reason, during the data collection, we were able to build a training dataset with 80% cats and 20% dogs. However, during testing we are expecting that our classifier will be tested on a more balanced situation where 50% of the images belong to cats and 50% belong to dogs. In such case, and assuming our classifier has *enough learning capacity*, the algorithm will inherently learn the wrong priors and lead to biased predictions at the test time.\n",
    "\n",
    "Formally, let $x$ be the input, e.g. a cat/dog image, of a binary classifier $f(\\cdot)$. You can think of $f(\\cdot)$ being a logistic regression or a neural network mapping $x$ to $f(x)$. In such case, $f(x)$ represents the posterior probability of $x$ being in class $C1$, say cats, where \n",
    "\n",
    "\\begin{equation}\n",
    "f(x) = p(C1/x) \\propto p(x/C_1) \\times p(C1).\n",
    "\\end{equation}\n",
    "\n",
    "The prediction is then made by choosing the class with higher posterior (if $f(x)>1/2$, which means $p(C1/x) > p(C2/x)$,  then it is a cat, otherwise dog).\n",
    "\n",
    "> <sub>\n",
    "In the case of logistic regression, one can easily link the posterior probability to the parameters ($w$ and $b$)\n",
    "\\begin{align}\n",
    "p(C_1|x) = \\frac{p(x|C_1)p(C_1)}{p(x)} = \\frac{p(x|C_1)p(C_1)}{p(x|C_1)p(C_1) + p(x|C_2)p(C_2)}= \\frac{1}{1 + \\frac{p(x|C_2)p(C_2)}{p(x|C_1)p(C_1)}}\n",
    "= \\frac{1}{1 + \\exp\\left(-\\ln\\frac{p(x|C_1)p(C_1)}{p(x|C_2)p(C_2)}\\right)} = \\frac{1}{1 + \\exp\\left(-(w^Tx + b)\\right)} = \\sigma(w^Tx + b).\n",
    "\\end{align}\n",
    " </sub>\n",
    "\n",
    "Assuming that the classifier has enough capacity, it will learn the *biased* training prior $p(C1)=0.8$. If we expect that such prior distribution does not hold during test time, we need to mitigate this problem. This can be done during training time (re-balance dataset via sampling/data augmentation, use penalized models) or at the test time (correct the output probability, adjust threshold) as we will see later."
   ]
  },
  {
   "cell_type": "markdown",
   "metadata": {},
   "source": [
    "### A.2 Poor predictive performance on the minority class:"
   ]
  },
  {
   "cell_type": "markdown",
   "metadata": {},
   "source": [
    "This is a more general problem that holds even if the imbalance persists during the test time. Take for example the prediction of a fatal rare disease: the dataset is expected to be imbalanced both during training and testing, and there is no issue of distribution drift here. However, the imbalance can still affect the learning task. This is because the relatively few instances in the minority class are not enough for the algorithm to fully discover the feature space and learn the appropriate rule. Therefore, the problem here is not in learning a biased prior as in the previous section, but rather in the ability to learn the whole posterior probability.\n",
    "\n",
    "Take the Gaussian naive Bayes classifier as an example. In case of few instance in one of the classes, we will get a poor estimation for both the prior and the Gaussian likelihood, and hence a poor performance (high generalization error).\n",
    "\n",
    "> Note that in the previous section we had assumed that the learning algorithm has *enough learning capacity* in order to filter out this effect and focus on the prior's bias.\n",
    "\n",
    "In order to mitigate such problem, one has to adjust the data or the model during training (data augmentation, penalized models). However, re-balancing the data or penalizing the machine learning model can create an *artificial bias* that needs to be corrected during test time. More information on this in the sequel."
   ]
  },
  {
   "cell_type": "markdown",
   "metadata": {},
   "source": [
    "### A.3 Less informative evaluation metrics:"
   ]
  },
  {
   "cell_type": "markdown",
   "metadata": {},
   "source": [
    "The accuracy metric is meaningful for a relatively balanced dataset and for the cases where the two types of errors have the same cost (cost of false alarm = cost of miss). However, for imbalanced datasets the accuracy metrics can become misleading by giving an inflated measure that can be easily beaten by a dummy classifier. Similarly for other evaluation metrics such as the false positive rate (FPR) used in the ROC.\n",
    "\n",
    "Lets first review different evaluation metrics in a binary classification set up:\n",
    "- Accuracy $= (TP + TN)/(P+N) = (TP + TN)/(TP + FN + TN + FP)$\n",
    "- TPR or recall $= TP/P = TP/(TP+FN)$\n",
    "- FPR = $FP/N = FP/(FN+TN)$\n",
    "- precision $= TP/(TP+FP)$"
   ]
  },
  {
   "cell_type": "markdown",
   "metadata": {},
   "source": [
    "The problem with the imbalance dataset is that the majority class (usually the negative class) is overwhelming. Hence, with any reasonable classifier the $TN$ term will dominate the numerator and denominator in the accuracy and makes it close to $1$. Similarly for the false positive rate (FPR) where the dominating $TN$ term makes it always close to zero. Therefore, the accuracy and the ROC might be misleading in assessing the performance under class imbalance.\n",
    "\n",
    "I ideally, we want both the $FN$ and $FP$ terms to be small without including the dominating $TN$. Hence, **it is a good practice to look at the precision and recall** which are not sensitive to the class imbalance through the $TN$ term. One way to combine these two metrics is via a harmonic mean F-1 score. This is of course under the assumptions that both types of error have the same cost. If not, one can use a weighted version of such score, e.g. F-$\\beta$ score. In general, it is always recommended to look at the entire confusion matrix in such cases.\n",
    "\n",
    "More info on F-1 score with useful visualizations [here](https://github.com/MhDia/MLteaching/blob/master/T2_F1score.ipynb)."
   ]
  },
  {
   "cell_type": "markdown",
   "metadata": {},
   "source": [
    "> **Note:** The precision and recall, and hence the F-1 score, are less sensitive to class imbalance under the convention that the majority class in the negative class (i.e. the $TN$ term is relatively large than the $TP$ term). In case of a flip of convention, the precision and recall might become misleading and one needs to look at their counterpart that excludes the $TP$ terms. Therefore, it is better to stick with the convention for class imbalance (majority class being the negative class labeled by $0$ for binary classification in `sklearn`).  "
   ]
  },
  {
   "cell_type": "markdown",
   "metadata": {},
   "source": [
    "## B. How to mitigate the class imbalance problem?"
   ]
  },
  {
   "cell_type": "markdown",
   "metadata": {},
   "source": [
    "The effects of the class imbalance might vary based on the degree of imbalance, the amount of available data, and the type of the ML model and learning algorithm used. In some cases, one might get satisfactory performance results via standard hyper-parameter tuning and without considering further modifications in the training pipeline. However, in many other cases, especially under high imbalance and limited amount of data, one needs to address the class imbalance during the training and/or testing phases. Below are common techniques to mitigate the class imbalance problem. Such techniques can be used separately or in conjunction."
   ]
  },
  {
   "cell_type": "markdown",
   "metadata": {},
   "source": [
    "### B.1 Re-balance training dataset:<a name=\"B1\"></a>\n",
    "Try to re-balance the training dataset in favor of the minority class via the following techniques: \n",
    "- Collect more data for the minority class (if possible)\n",
    "- Data augmentation of the minority class (creating synthetic samples/features, e.g. [SMOTE](https://arxiv.org/pdf/1106.1813.pdf))\n",
    "- Up-sample the minority class during training\n",
    "- Down-sample the majority class during training\n",
    "\n",
    "> Note that one needs to be careful while re-balancing the training dataset. Overdoing this technique might create an *artificial bias* in the [training prior](#A1) that needs to be corrected during test time (see [B.3](#B3) below)."
   ]
  },
  {
   "cell_type": "markdown",
   "metadata": {},
   "source": [
    "### B.2 Use penalized models for training (cost-sensitive models):<a name=\"B2\"></a>\n",
    "Penalize the minority class more than the majority class by adjusting the cost function. For example, if class A is twice less frequent than class B in the training dataset, define a cost function that penalizes class A more than class B. This way will make the ML model focus more on the minority class in order to compensate for the imbalance. This can be easily done in `sklearn` models by changing the `class_weight` parameter (alternatively, one can change the `sample_weight` in the `fit` method). The 'balanced' mode in `class_weight` automatically adjusts the cost function by picking weights representing the inverse class frequencies. One can manually choose such weights and tune them during hyper-parameters tuning on the validation set. Penalized models have similar, but not exactly the same effect as the techniques mentioned in [B.1](#B1) above.\n",
    "\n",
    "> Similarly as in [B.1](#B1), one needs to carefully choose the weights in order not to create an *artificial bias* in the training prior."
   ]
  },
  {
   "cell_type": "markdown",
   "metadata": {},
   "source": [
    "### B.3 Adjust the predictions during testing:<a name=\"B3\"></a>\n",
    "This technique is mainly used to correct the prior bias due to drift in distribution (see [A.1](#A1)) or due to artificial bias added during training. The idea is to adjust the output probabilities, or alternatively the decision threshold, at the prediction time in order to account for the bias. Take for example the binary classification problem, an ML model such as logistic regression is trained to output a prediction representing the posterior probability of an input being in class 1 or 0. The decision is then made based on the magnitude of the probabilities. If $p(x/C_1)>p(x/C_0)$ then we decide that x belongs to class 1, otherwise it belongs to class 0. The default threshold used for such binary classification is $\\alpha = 1/2$, i.e. if $p(x/C_1)>\\alpha$ it is believed that $x$ is in class 1. Such threshold is made based on the assumption that the prior distributions don't change between training and testing. However, this assumption might be violated due to a drift in distribution or artificial bias added during training. In this case one needs to modify the threshold $\\alpha$ during testing. If the prior bias is numerically quantified, which not usually possible, one can then compute the optimal $\\alpha$ and use it at the test time. In practice, such threshold can be tuned during hyper-parameter tuning."
   ]
  },
  {
   "cell_type": "markdown",
   "metadata": {},
   "source": [
    "### B.4 Use appropriate evaluation metrics:\n",
    "used in conjunction with all the one above\n",
    "- Precision/recall curve\n",
    "- F-1 score (or weighted version)\n",
    "- Confusion matrix\n",
    "- avoid misleading metrics: accuracy, FPR, TNR (or specificity/selectivity), or any metric where the $TN$ term can dominate."
   ]
  },
  {
   "cell_type": "markdown",
   "metadata": {},
   "source": [
    "## Demo"
   ]
  },
  {
   "cell_type": "code",
   "execution_count": 325,
   "metadata": {},
   "outputs": [],
   "source": [
    "# import the necessary module from scikit learn\n",
    "from sklearn.datasets import load_breast_cancer, load_digits, load_iris, load_wine, fetch_kddcup99\n",
    "from sklearn.metrics import confusion_matrix, accuracy_score, f1_score, recall_score, precision_score, classification_report, roc_curve, roc_auc_score\n",
    "from sklearn.model_selection import train_test_split\n",
    "from sklearn.linear_model import LogisticRegression\n",
    "from sklearn.preprocessing import StandardScaler\n",
    "from sklearn.svm import LinearSVC\n",
    "import numpy as np\n",
    "import pandas as pd\n",
    "%matplotlib inline\n",
    "import matplotlib.pyplot as plt"
   ]
  },
  {
   "cell_type": "code",
   "execution_count": 285,
   "metadata": {},
   "outputs": [],
   "source": [
    "# load the data\n",
    "df = pd.read_csv('https://raw.githubusercontent.com/jbrownlee/Datasets/master/haberman.csv', header=None)\n",
    "X = df.values[:, :-1].astype(float)\n",
    "y = df.values[:, -1]\n",
    "y = y-1 #convert labels from 1/2 format to 0/1 format"
   ]
  },
  {
   "cell_type": "code",
   "execution_count": 286,
   "metadata": {},
   "outputs": [
    {
     "data": {
      "text/plain": [
       "0.2647058823529412"
      ]
     },
     "execution_count": 286,
     "metadata": {},
     "output_type": "execute_result"
    }
   ],
   "source": [
    "sum(y)/len(y)"
   ]
  },
  {
   "cell_type": "code",
   "execution_count": 287,
   "metadata": {},
   "outputs": [],
   "source": [
    "# split data for traing and testing\n",
    "X_train, X_test, y_train, y_test = train_test_split(X, y, test_size=0.33, random_state=42)"
   ]
  },
  {
   "cell_type": "code",
   "execution_count": 288,
   "metadata": {},
   "outputs": [],
   "source": [
    "scaler = StandardScaler()\n",
    "X_train = scaler.fit_transform(X_train)\n",
    "X_test = scaler.transform(X_test)"
   ]
  },
  {
   "cell_type": "code",
   "execution_count": 331,
   "metadata": {},
   "outputs": [
    {
     "data": {
      "text/plain": [
       "LogisticRegression(C=1.0, class_weight=None, dual=False, fit_intercept=True,\n",
       "          intercept_scaling=1, max_iter=100, multi_class='warn',\n",
       "          n_jobs=None, penalty='l2', random_state=None, solver='liblinear',\n",
       "          tol=0.0001, verbose=0, warm_start=False)"
      ]
     },
     "execution_count": 331,
     "metadata": {},
     "output_type": "execute_result"
    }
   ],
   "source": [
    "# train a linear binary classifier\n",
    "model = LogisticRegression(solver='liblinear')\n",
    "model.fit(X_train, y_train)"
   ]
  },
  {
   "cell_type": "code",
   "execution_count": 332,
   "metadata": {},
   "outputs": [],
   "source": [
    "# predict the labels of the train/test dataset\n",
    "y_train_pred = model.predict(X_train)\n",
    "y_train_pob = model.predict_proba(X_train)\n",
    "\n",
    "y_test_pred = model.predict(X_test)\n",
    "y_test_pob = model.predict_proba(X_test)"
   ]
  },
  {
   "cell_type": "code",
   "execution_count": 333,
   "metadata": {},
   "outputs": [
    {
     "name": "stdout",
     "output_type": "stream",
     "text": [
      "TN =  69 FP =  5 \n",
      "FN =  20 TP =  7\n"
     ]
    }
   ],
   "source": [
    "# compute the confusion matrix\n",
    "conf_mat = confusion_matrix(y_test, y_test_pred)\n",
    "##print(\"confusion matrix: \\n\", conf_mat)\n",
    "# pritn the four events\n",
    "tn, fp, fn, tp = conf_mat.ravel()\n",
    "print(\"TN = \", tn, \"FP = \", fp, \"\\nFN = \", fn, \"TP = \", tp)"
   ]
  },
  {
   "cell_type": "code",
   "execution_count": 334,
   "metadata": {},
   "outputs": [
    {
     "name": "stdout",
     "output_type": "stream",
     "text": [
      " Accuracy =  0.75 \n",
      " Recall =  0.26 \n",
      " Precision =  0.58 \n",
      " F-1 score =  0.36 \n",
      " AUROC =  0.6\n"
     ]
    }
   ],
   "source": [
    "acc = accuracy_score(y_test, y_test_pred)\n",
    "recall = recall_score(y_test, y_test_pred)\n",
    "precision = precision_score(y_test, y_test_pred)\n",
    "f1 = f1_score(y_test, y_test_pred)\n",
    "auroc = roc_auc_score(y_test, y_test_pred)\n",
    "\n",
    "\n",
    "print(\" Accuracy = \", np.round(acc,2), \"\\n\", \"Recall = \", np.round(recall,2), \"\\n\", \"Precision = \", np.round(precision,2), \"\\n\",\n",
    "      \"F-1 score = \", np.round(f1,2), \"\\n\", \"AUROC = \", np.round(auroc,2))"
   ]
  },
  {
   "cell_type": "code",
   "execution_count": 335,
   "metadata": {},
   "outputs": [],
   "source": [
    "#report = classification_report(y_true=y_test, y_pred=y_test_pred)\n",
    "#print(report)"
   ]
  },
  {
   "cell_type": "code",
   "execution_count": 381,
   "metadata": {},
   "outputs": [
    {
     "data": {
      "text/plain": [
       "LogisticRegression(C=1.0, class_weight={0: 1, 1: 2.2}, dual=False,\n",
       "          fit_intercept=True, intercept_scaling=1, max_iter=100,\n",
       "          multi_class='warn', n_jobs=None, penalty='l2', random_state=None,\n",
       "          solver='liblinear', tol=0.0001, verbose=0, warm_start=False)"
      ]
     },
     "execution_count": 381,
     "metadata": {},
     "output_type": "execute_result"
    }
   ],
   "source": [
    "model = LogisticRegression(solver='liblinear', class_weight={0:1,1:2.2})\n",
    "model.fit(X_train, y_train, )"
   ]
  },
  {
   "cell_type": "code",
   "execution_count": 364,
   "metadata": {},
   "outputs": [
    {
     "data": {
      "text/plain": [
       "LogisticRegression(C=1.0, class_weight='balanced', dual=False,\n",
       "          fit_intercept=True, intercept_scaling=1, max_iter=100,\n",
       "          multi_class='warn', n_jobs=None, penalty='l2', random_state=None,\n",
       "          solver='liblinear', tol=0.0001, verbose=0, warm_start=False)"
      ]
     },
     "execution_count": 364,
     "metadata": {},
     "output_type": "execute_result"
    }
   ],
   "source": [
    "model = LogisticRegression(solver='liblinear', class_weight='balanced')\n",
    "model.fit(X_train, y_train, )"
   ]
  },
  {
   "cell_type": "code",
   "execution_count": 382,
   "metadata": {},
   "outputs": [],
   "source": [
    "# predict the labels of the train/test dataset\n",
    "y_train_pred = model.predict(X_train)\n",
    "y_train_prob = model.predict_proba(X_train)\n",
    "\n",
    "y_test_pred = model.predict(X_test)\n",
    "y_test_prob = model.predict_proba(X_test)"
   ]
  },
  {
   "cell_type": "code",
   "execution_count": 383,
   "metadata": {},
   "outputs": [
    {
     "name": "stdout",
     "output_type": "stream",
     "text": [
      "TN =  63 FP =  11 \n",
      "FN =  17 TP =  10\n"
     ]
    }
   ],
   "source": [
    "# compute the confusion matrix\n",
    "conf_mat = confusion_matrix(y_test, y_test_pred)\n",
    "##print(\"confusion matrix: \\n\", conf_mat)\n",
    "# pritn the four events\n",
    "tn, fp, fn, tp = conf_mat.ravel()\n",
    "print(\"TN = \", tn, \"FP = \", fp, \"\\nFN = \", fn, \"TP = \", tp)"
   ]
  },
  {
   "cell_type": "code",
   "execution_count": 384,
   "metadata": {},
   "outputs": [
    {
     "name": "stdout",
     "output_type": "stream",
     "text": [
      " Accuracy =  0.72 \n",
      " Recall =  0.37 \n",
      " Precision =  0.48 \n",
      " F-1 score =  0.42 \n",
      " AUROC =  0.61\n"
     ]
    }
   ],
   "source": [
    "acc = accuracy_score(y_test, y_test_pred)\n",
    "recall = recall_score(y_test, y_test_pred)\n",
    "precision = precision_score(y_test, y_test_pred)\n",
    "f1 = f1_score(y_test, y_test_pred)\n",
    "auroc = roc_auc_score(y_test, y_test_pred)\n",
    "\n",
    "\n",
    "print(\" Accuracy = \", np.round(acc,2), \"\\n\", \"Recall = \", np.round(recall,2), \"\\n\", \"Precision = \", np.round(precision,2), \"\\n\",\n",
    "      \"F-1 score = \", np.round(f1,2), \"\\n\", \"AUROC = \", np.round(auroc,2))"
   ]
  },
  {
   "cell_type": "code",
   "execution_count": 340,
   "metadata": {},
   "outputs": [],
   "source": [
    "#report = classification_report(y_true=y_test, y_pred=y_test_pred)\n",
    "#print(report)"
   ]
  },
  {
   "cell_type": "code",
   "execution_count": 341,
   "metadata": {},
   "outputs": [],
   "source": [
    "# ROC curve\n",
    "fpr, tpr, thresholds = roc_curve(y_true=y_test, y_score=y_test_prob[:, 1])"
   ]
  },
  {
   "cell_type": "code",
   "execution_count": 342,
   "metadata": {},
   "outputs": [
    {
     "data": {
      "image/png": "[encoded data removed]",
      "text/plain": [
       "<Figure size 432x288 with 1 Axes>"
      ]
     },
     "metadata": {
      "needs_background": "light"
     },
     "output_type": "display_data"
    }
   ],
   "source": [
    "# Plot ROC curve\n",
    "plt.plot(fpr, tpr, label='ROC curve')\n",
    "plt.xlabel('False Positive Rate')\n",
    "plt.ylabel('True Positive Rate (Recall)')\n",
    "plt.title('ROC curve')\n",
    "plt.grid()\n",
    "plt.show()"
   ]
  },
  {
   "cell_type": "code",
   "execution_count": 343,
   "metadata": {},
   "outputs": [
    {
     "data": {
      "text/html": [
       "<div>\n",
       "<style scoped>\n",
       "    .dataframe tbody tr th:only-of-type {\n",
       "        vertical-align: middle;\n",
       "    }\n",
       "\n",
       "    .dataframe tbody tr th {\n",
       "        vertical-align: top;\n",
       "    }\n",
       "\n",
       "    .dataframe thead th {\n",
       "        text-align: right;\n",
       "    }\n",
       "</style>\n",
       "<table border=\"1\" class=\"dataframe\">\n",
       "  <thead>\n",
       "    <tr style=\"text-align: right;\">\n",
       "      <th></th>\n",
       "      <th>fpr</th>\n",
       "      <th>tpr (recall)</th>\n",
       "      <th>thresholds</th>\n",
       "    </tr>\n",
       "  </thead>\n",
       "  <tbody>\n",
       "    <tr>\n",
       "      <th>0</th>\n",
       "      <td>0.000000</td>\n",
       "      <td>0.000000</td>\n",
       "      <td>1.914841</td>\n",
       "    </tr>\n",
       "    <tr>\n",
       "      <th>1</th>\n",
       "      <td>0.013514</td>\n",
       "      <td>0.000000</td>\n",
       "      <td>0.914841</td>\n",
       "    </tr>\n",
       "    <tr>\n",
       "      <th>2</th>\n",
       "      <td>0.013514</td>\n",
       "      <td>0.037037</td>\n",
       "      <td>0.903128</td>\n",
       "    </tr>\n",
       "    <tr>\n",
       "      <th>3</th>\n",
       "      <td>0.027027</td>\n",
       "      <td>0.037037</td>\n",
       "      <td>0.891186</td>\n",
       "    </tr>\n",
       "    <tr>\n",
       "      <th>4</th>\n",
       "      <td>0.027027</td>\n",
       "      <td>0.148148</td>\n",
       "      <td>0.840411</td>\n",
       "    </tr>\n",
       "    <tr>\n",
       "      <th>5</th>\n",
       "      <td>0.040541</td>\n",
       "      <td>0.148148</td>\n",
       "      <td>0.828448</td>\n",
       "    </tr>\n",
       "    <tr>\n",
       "      <th>6</th>\n",
       "      <td>0.040541</td>\n",
       "      <td>0.185185</td>\n",
       "      <td>0.801226</td>\n",
       "    </tr>\n",
       "    <tr>\n",
       "      <th>7</th>\n",
       "      <td>0.067568</td>\n",
       "      <td>0.185185</td>\n",
       "      <td>0.798400</td>\n",
       "    </tr>\n",
       "    <tr>\n",
       "      <th>8</th>\n",
       "      <td>0.067568</td>\n",
       "      <td>0.296296</td>\n",
       "      <td>0.758638</td>\n",
       "    </tr>\n",
       "    <tr>\n",
       "      <th>9</th>\n",
       "      <td>0.081081</td>\n",
       "      <td>0.296296</td>\n",
       "      <td>0.698940</td>\n",
       "    </tr>\n",
       "    <tr>\n",
       "      <th>10</th>\n",
       "      <td>0.081081</td>\n",
       "      <td>0.370370</td>\n",
       "      <td>0.694095</td>\n",
       "    </tr>\n",
       "    <tr>\n",
       "      <th>11</th>\n",
       "      <td>0.148649</td>\n",
       "      <td>0.370370</td>\n",
       "      <td>0.596739</td>\n",
       "    </tr>\n",
       "    <tr>\n",
       "      <th>12</th>\n",
       "      <td>0.148649</td>\n",
       "      <td>0.407407</td>\n",
       "      <td>0.552021</td>\n",
       "    </tr>\n",
       "    <tr>\n",
       "      <th>13</th>\n",
       "      <td>0.162162</td>\n",
       "      <td>0.407407</td>\n",
       "      <td>0.550627</td>\n",
       "    </tr>\n",
       "    <tr>\n",
       "      <th>14</th>\n",
       "      <td>0.162162</td>\n",
       "      <td>0.444444</td>\n",
       "      <td>0.536950</td>\n",
       "    </tr>\n",
       "    <tr>\n",
       "      <th>15</th>\n",
       "      <td>0.216216</td>\n",
       "      <td>0.444444</td>\n",
       "      <td>0.499713</td>\n",
       "    </tr>\n",
       "    <tr>\n",
       "      <th>16</th>\n",
       "      <td>0.216216</td>\n",
       "      <td>0.481481</td>\n",
       "      <td>0.496891</td>\n",
       "    </tr>\n",
       "    <tr>\n",
       "      <th>17</th>\n",
       "      <td>0.270270</td>\n",
       "      <td>0.481481</td>\n",
       "      <td>0.469228</td>\n",
       "    </tr>\n",
       "    <tr>\n",
       "      <th>18</th>\n",
       "      <td>0.270270</td>\n",
       "      <td>0.518519</td>\n",
       "      <td>0.468185</td>\n",
       "    </tr>\n",
       "    <tr>\n",
       "      <th>19</th>\n",
       "      <td>0.310811</td>\n",
       "      <td>0.518519</td>\n",
       "      <td>0.466737</td>\n",
       "    </tr>\n",
       "    <tr>\n",
       "      <th>20</th>\n",
       "      <td>0.337838</td>\n",
       "      <td>0.518519</td>\n",
       "      <td>0.460854</td>\n",
       "    </tr>\n",
       "    <tr>\n",
       "      <th>21</th>\n",
       "      <td>0.337838</td>\n",
       "      <td>0.592593</td>\n",
       "      <td>0.458549</td>\n",
       "    </tr>\n",
       "    <tr>\n",
       "      <th>22</th>\n",
       "      <td>0.378378</td>\n",
       "      <td>0.592593</td>\n",
       "      <td>0.448535</td>\n",
       "    </tr>\n",
       "    <tr>\n",
       "      <th>23</th>\n",
       "      <td>0.405405</td>\n",
       "      <td>0.592593</td>\n",
       "      <td>0.446602</td>\n",
       "    </tr>\n",
       "    <tr>\n",
       "      <th>24</th>\n",
       "      <td>0.445946</td>\n",
       "      <td>0.592593</td>\n",
       "      <td>0.425038</td>\n",
       "    </tr>\n",
       "    <tr>\n",
       "      <th>25</th>\n",
       "      <td>0.472973</td>\n",
       "      <td>0.592593</td>\n",
       "      <td>0.424418</td>\n",
       "    </tr>\n",
       "    <tr>\n",
       "      <th>26</th>\n",
       "      <td>0.486486</td>\n",
       "      <td>0.592593</td>\n",
       "      <td>0.422152</td>\n",
       "    </tr>\n",
       "    <tr>\n",
       "      <th>27</th>\n",
       "      <td>0.486486</td>\n",
       "      <td>0.629630</td>\n",
       "      <td>0.416436</td>\n",
       "    </tr>\n",
       "    <tr>\n",
       "      <th>28</th>\n",
       "      <td>0.513514</td>\n",
       "      <td>0.629630</td>\n",
       "      <td>0.411360</td>\n",
       "    </tr>\n",
       "    <tr>\n",
       "      <th>29</th>\n",
       "      <td>0.513514</td>\n",
       "      <td>0.666667</td>\n",
       "      <td>0.409774</td>\n",
       "    </tr>\n",
       "    <tr>\n",
       "      <th>30</th>\n",
       "      <td>0.554054</td>\n",
       "      <td>0.666667</td>\n",
       "      <td>0.403760</td>\n",
       "    </tr>\n",
       "    <tr>\n",
       "      <th>31</th>\n",
       "      <td>0.554054</td>\n",
       "      <td>0.703704</td>\n",
       "      <td>0.398079</td>\n",
       "    </tr>\n",
       "    <tr>\n",
       "      <th>32</th>\n",
       "      <td>0.621622</td>\n",
       "      <td>0.703704</td>\n",
       "      <td>0.389694</td>\n",
       "    </tr>\n",
       "    <tr>\n",
       "      <th>33</th>\n",
       "      <td>0.621622</td>\n",
       "      <td>0.740741</td>\n",
       "      <td>0.389347</td>\n",
       "    </tr>\n",
       "    <tr>\n",
       "      <th>34</th>\n",
       "      <td>0.702703</td>\n",
       "      <td>0.740741</td>\n",
       "      <td>0.365665</td>\n",
       "    </tr>\n",
       "    <tr>\n",
       "      <th>35</th>\n",
       "      <td>0.702703</td>\n",
       "      <td>0.777778</td>\n",
       "      <td>0.362587</td>\n",
       "    </tr>\n",
       "    <tr>\n",
       "      <th>36</th>\n",
       "      <td>0.729730</td>\n",
       "      <td>0.777778</td>\n",
       "      <td>0.357849</td>\n",
       "    </tr>\n",
       "    <tr>\n",
       "      <th>37</th>\n",
       "      <td>0.729730</td>\n",
       "      <td>0.851852</td>\n",
       "      <td>0.353055</td>\n",
       "    </tr>\n",
       "    <tr>\n",
       "      <th>38</th>\n",
       "      <td>0.743243</td>\n",
       "      <td>0.851852</td>\n",
       "      <td>0.351560</td>\n",
       "    </tr>\n",
       "    <tr>\n",
       "      <th>39</th>\n",
       "      <td>0.743243</td>\n",
       "      <td>0.888889</td>\n",
       "      <td>0.349779</td>\n",
       "    </tr>\n",
       "    <tr>\n",
       "      <th>40</th>\n",
       "      <td>0.783784</td>\n",
       "      <td>0.888889</td>\n",
       "      <td>0.343270</td>\n",
       "    </tr>\n",
       "    <tr>\n",
       "      <th>41</th>\n",
       "      <td>0.810811</td>\n",
       "      <td>0.888889</td>\n",
       "      <td>0.338853</td>\n",
       "    </tr>\n",
       "    <tr>\n",
       "      <th>42</th>\n",
       "      <td>0.851351</td>\n",
       "      <td>0.888889</td>\n",
       "      <td>0.325492</td>\n",
       "    </tr>\n",
       "    <tr>\n",
       "      <th>43</th>\n",
       "      <td>0.851351</td>\n",
       "      <td>0.925926</td>\n",
       "      <td>0.323457</td>\n",
       "    </tr>\n",
       "    <tr>\n",
       "      <th>44</th>\n",
       "      <td>0.918919</td>\n",
       "      <td>0.925926</td>\n",
       "      <td>0.297448</td>\n",
       "    </tr>\n",
       "    <tr>\n",
       "      <th>45</th>\n",
       "      <td>0.918919</td>\n",
       "      <td>0.962963</td>\n",
       "      <td>0.294190</td>\n",
       "    </tr>\n",
       "    <tr>\n",
       "      <th>46</th>\n",
       "      <td>0.959459</td>\n",
       "      <td>0.962963</td>\n",
       "      <td>0.281582</td>\n",
       "    </tr>\n",
       "    <tr>\n",
       "      <th>47</th>\n",
       "      <td>0.959459</td>\n",
       "      <td>1.000000</td>\n",
       "      <td>0.277878</td>\n",
       "    </tr>\n",
       "    <tr>\n",
       "      <th>48</th>\n",
       "      <td>1.000000</td>\n",
       "      <td>1.000000</td>\n",
       "      <td>0.238585</td>\n",
       "    </tr>\n",
       "  </tbody>\n",
       "</table>\n",
       "</div>"
      ],
      "text/plain": [
       "         fpr  tpr (recall)  thresholds\n",
       "0   0.000000      0.000000    1.914841\n",
       "1   0.013514      0.000000    0.914841\n",
       "2   0.013514      0.037037    0.903128\n",
       "3   0.027027      0.037037    0.891186\n",
       "4   0.027027      0.148148    0.840411\n",
       "5   0.040541      0.148148    0.828448\n",
       "6   0.040541      0.185185    0.801226\n",
       "7   0.067568      0.185185    0.798400\n",
       "8   0.067568      0.296296    0.758638\n",
       "9   0.081081      0.296296    0.698940\n",
       "10  0.081081      0.370370    0.694095\n",
       "11  0.148649      0.370370    0.596739\n",
       "12  0.148649      0.407407    0.552021\n",
       "13  0.162162      0.407407    0.550627\n",
       "14  0.162162      0.444444    0.536950\n",
       "15  0.216216      0.444444    0.499713\n",
       "16  0.216216      0.481481    0.496891\n",
       "17  0.270270      0.481481    0.469228\n",
       "18  0.270270      0.518519    0.468185\n",
       "19  0.310811      0.518519    0.466737\n",
       "20  0.337838      0.518519    0.460854\n",
       "21  0.337838      0.592593    0.458549\n",
       "22  0.378378      0.592593    0.448535\n",
       "23  0.405405      0.592593    0.446602\n",
       "24  0.445946      0.592593    0.425038\n",
       "25  0.472973      0.592593    0.424418\n",
       "26  0.486486      0.592593    0.422152\n",
       "27  0.486486      0.629630    0.416436\n",
       "28  0.513514      0.629630    0.411360\n",
       "29  0.513514      0.666667    0.409774\n",
       "30  0.554054      0.666667    0.403760\n",
       "31  0.554054      0.703704    0.398079\n",
       "32  0.621622      0.703704    0.389694\n",
       "33  0.621622      0.740741    0.389347\n",
       "34  0.702703      0.740741    0.365665\n",
       "35  0.702703      0.777778    0.362587\n",
       "36  0.729730      0.777778    0.357849\n",
       "37  0.729730      0.851852    0.353055\n",
       "38  0.743243      0.851852    0.351560\n",
       "39  0.743243      0.888889    0.349779\n",
       "40  0.783784      0.888889    0.343270\n",
       "41  0.810811      0.888889    0.338853\n",
       "42  0.851351      0.888889    0.325492\n",
       "43  0.851351      0.925926    0.323457\n",
       "44  0.918919      0.925926    0.297448\n",
       "45  0.918919      0.962963    0.294190\n",
       "46  0.959459      0.962963    0.281582\n",
       "47  0.959459      1.000000    0.277878\n",
       "48  1.000000      1.000000    0.238585"
      ]
     },
     "execution_count": 343,
     "metadata": {},
     "output_type": "execute_result"
    }
   ],
   "source": [
    "pd.DataFrame({\n",
    "    'fpr': fpr,\n",
    "    'tpr (recall)': tpr,\n",
    "    'thresholds': thresholds\n",
    "})"
   ]
  },
  {
   "cell_type": "code",
   "execution_count": 344,
   "metadata": {},
   "outputs": [],
   "source": [
    "prob_ratio = y_test_prob[:,1]/y_test_prob[:,0]"
   ]
  },
  {
   "cell_type": "code",
   "execution_count": 345,
   "metadata": {},
   "outputs": [
    {
     "data": {
      "text/plain": [
       "[<matplotlib.lines.Line2D at 0x15753d198>]"
      ]
     },
     "execution_count": 345,
     "metadata": {},
     "output_type": "execute_result"
    },
    {
     "data": {
      "image/png": "[encoded data removed]",
      "text/plain": [
       "<Figure size 432x288 with 1 Axes>"
      ]
     },
     "metadata": {
      "needs_background": "light"
     },
     "output_type": "display_data"
    }
   ],
   "source": [
    "plt.plot(prob_ratio)"
   ]
  },
  {
   "cell_type": "code",
   "execution_count": 346,
   "metadata": {},
   "outputs": [
    {
     "data": {
      "text/plain": [
       "array([0, 0, 0, 0, 0, 1, 0, 0, 1, 0, 1, 0, 0, 1, 0, 0, 0, 0, 1, 0, 0, 0,\n",
       "       0, 0, 0, 0, 0, 0, 1, 0, 0, 1, 0, 0, 0, 1, 0, 0, 1, 0, 1, 0, 1, 0,\n",
       "       0, 0, 0, 0, 0, 0, 1, 0, 0, 0, 0, 1, 1, 0, 1, 0, 0, 1, 1, 0, 1, 0,\n",
       "       1, 0, 0, 1, 0, 1, 1, 0, 0, 0, 0, 1, 0, 0, 0, 0, 0, 1, 0, 1, 0, 0,\n",
       "       0, 1, 0, 1, 0, 0, 0, 0, 0, 0, 0, 0, 0])"
      ]
     },
     "execution_count": 346,
     "metadata": {},
     "output_type": "execute_result"
    }
   ],
   "source": [
    "y_test_pred"
   ]
  },
  {
   "cell_type": "code",
   "execution_count": 347,
   "metadata": {},
   "outputs": [],
   "source": [
    "prob_ratio_corr = prob_ratio/3"
   ]
  },
  {
   "cell_type": "code",
   "execution_count": 348,
   "metadata": {},
   "outputs": [
    {
     "data": {
      "text/plain": [
       "[<matplotlib.lines.Line2D at 0x14f5ff240>]"
      ]
     },
     "execution_count": 348,
     "metadata": {},
     "output_type": "execute_result"
    },
    {
     "data": {
      "image/png": "[encoded data removed]",
      "text/plain": [
       "<Figure size 432x288 with 1 Axes>"
      ]
     },
     "metadata": {
      "needs_background": "light"
     },
     "output_type": "display_data"
    }
   ],
   "source": [
    "plt.plot(prob_ratio_corr)"
   ]
  },
  {
   "cell_type": "code",
   "execution_count": 349,
   "metadata": {},
   "outputs": [],
   "source": [
    "y_test_pred_corr =  (prob_ratio_corr >1).astype(int)"
   ]
  },
  {
   "cell_type": "code",
   "execution_count": 350,
   "metadata": {},
   "outputs": [
    {
     "data": {
      "text/plain": [
       "array([0, 0, 0, 0, 0, 1, 0, 0, 0, 0, 0, 0, 0, 1, 0, 0, 0, 0, 0, 0, 0, 0,\n",
       "       0, 0, 0, 0, 0, 0, 0, 0, 0, 1, 0, 0, 0, 0, 0, 0, 1, 0, 1, 0, 1, 0,\n",
       "       0, 0, 0, 0, 0, 0, 1, 0, 0, 0, 0, 1, 0, 0, 0, 0, 0, 0, 0, 0, 1, 0,\n",
       "       1, 0, 0, 0, 0, 0, 1, 0, 0, 0, 0, 1, 0, 0, 0, 0, 0, 0, 0, 1, 0, 0,\n",
       "       0, 0, 0, 0, 0, 0, 0, 0, 0, 0, 0, 0, 0])"
      ]
     },
     "execution_count": 350,
     "metadata": {},
     "output_type": "execute_result"
    }
   ],
   "source": [
    "y_test_pred_corr"
   ]
  },
  {
   "cell_type": "code",
   "execution_count": 351,
   "metadata": {},
   "outputs": [
    {
     "data": {
      "text/plain": [
       "27"
      ]
     },
     "execution_count": 351,
     "metadata": {},
     "output_type": "execute_result"
    }
   ],
   "source": [
    "sum(y_test_pred)"
   ]
  },
  {
   "cell_type": "code",
   "execution_count": 352,
   "metadata": {},
   "outputs": [
    {
     "data": {
      "text/plain": [
       "13"
      ]
     },
     "execution_count": 352,
     "metadata": {},
     "output_type": "execute_result"
    }
   ],
   "source": [
    "sum(y_test_pred_corr)"
   ]
  },
  {
   "cell_type": "code",
   "execution_count": 357,
   "metadata": {},
   "outputs": [],
   "source": [
    "#report = classification_report(y_true=y_test, y_pred=y_test_pred_corr)\n",
    "#print(report)"
   ]
  },
  {
   "cell_type": "code",
   "execution_count": 358,
   "metadata": {},
   "outputs": [
    {
     "name": "stdout",
     "output_type": "stream",
     "text": [
      "TN =  69 FP =  5 \n",
      "FN =  19 TP =  8\n"
     ]
    }
   ],
   "source": [
    "# compute the confusion matrix\n",
    "conf_mat = confusion_matrix(y_test, y_test_pred_corr)\n",
    "##print(\"confusion matrix: \\n\", conf_mat)\n",
    "# pritn the four events\n",
    "tn, fp, fn, tp = conf_mat.ravel()\n",
    "print(\"TN = \", tn, \"FP = \", fp, \"\\nFN = \", fn, \"TP = \", tp)"
   ]
  },
  {
   "cell_type": "code",
   "execution_count": 359,
   "metadata": {},
   "outputs": [
    {
     "name": "stdout",
     "output_type": "stream",
     "text": [
      " Accuracy =  0.76 \n",
      " Recall =  0.3 \n",
      " Precision =  0.62 \n",
      " F-1 score =  0.4 \n",
      " AUROC =  0.61\n"
     ]
    }
   ],
   "source": [
    "acc = accuracy_score(y_test, y_test_pred_corr)\n",
    "recall = recall_score(y_test, y_test_pred_corr)\n",
    "precision = precision_score(y_test, y_test_pred_corr)\n",
    "f1 = f1_score(y_test, y_test_pred_corr)\n",
    "auroc = roc_auc_score(y_test, y_test_pred_corr)\n",
    "\n",
    "\n",
    "print(\" Accuracy = \", np.round(acc,2), \"\\n\", \"Recall = \", np.round(recall,2), \"\\n\", \"Precision = \", np.round(precision,2), \"\\n\",\n",
    "      \"F-1 score = \", np.round(f1,2), \"\\n\", \"AUROC = \", np.round(auroc,2))"
   ]
  },
  {
   "cell_type": "code",
   "execution_count": null,
   "metadata": {},
   "outputs": [],
   "source": []
  }
 ],
 "metadata": {
  "kernelspec": {
   "display_name": "Python 3",
   "language": "python",
   "name": "python3"
  },
  "language_info": {
   "codemirror_mode": {
    "name": "ipython",
    "version": 3
   },
   "file_extension": ".py",
   "mimetype": "text/x-python",
   "name": "python",
   "nbconvert_exporter": "python",
   "pygments_lexer": "ipython3",
   "version": "3.6.11"
  }
 },
 "nbformat": 4,
 "nbformat_minor": 4
}
