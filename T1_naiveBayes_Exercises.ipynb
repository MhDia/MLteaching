{
 "cells": [
  {
   "cell_type": "markdown",
   "metadata": {},
   "source": [
    "\n",
    "# ML/Python Course Material\n",
    "### [Mohamad Dia](http://mohamaddia.me)\n",
    "Feb 11 2020"
   ]
  },
  {
   "cell_type": "markdown",
   "metadata": {},
   "source": [
    "# T1: Naive Bayes Classifier - Programming Exercises"
   ]
  },
  {
   "cell_type": "markdown",
   "metadata": {},
   "source": [
    "### Exercise 1: Bernoulli Naive Bayes for text classification"
   ]
  },
  {
   "cell_type": "markdown",
   "metadata": {},
   "source": [
    "In this first exercise, you will implement the Bernoulli naive Bayes classifier for the articles classification problem already introduced in the theory part. We believe that implementing this task in python will help reinforce your learning on the first hand, and it will give you the opportunity to practice a bit of python programming.\n",
    "\n",
    "> Note: Implement the Bernoulli naive Bayes from scratch without using the `sklearn.naive_bayes.BernoulliNB` ready implementation from the scikit-learn library."
   ]
  },
  {
   "cell_type": "markdown",
   "metadata": {},
   "source": [
    "The training dataset is provided below. `X_train` contains $10$ feature vectors that correspond to $10$ different newspaper articles. Each feature vector is made of $4$ boolean variables that indicate whether the words \"election\", \"parliament\", \"player\", and \"game\" are present in the article (as explained in the example introduced in the theory part). The labels are given in `y_train` ($1$ corresponds to \"politics\" article and $0$ to \"sports\")."
   ]
  },
  {
   "cell_type": "code",
   "execution_count": 1,
   "metadata": {},
   "outputs": [],
   "source": [
    "import numpy as np\n",
    "X_train = np.array([[0,1,0,0], [1,1,0,0], [0,0,0,1], [1,1,0,1], [0,0,1,1], [1,0,0,1], [0,1,1,1], [1,1,1,0], [1,1,1,1], [1,0,0,0]])\n",
    "y_train = np.array([1 ,1, 0, 1, 0, 0, 0, 1, 1, 1])"
   ]
  },
  {
   "cell_type": "code",
   "execution_count": 2,
   "metadata": {},
   "outputs": [
    {
     "name": "stdout",
     "output_type": "stream",
     "text": [
      "[[0 1 0 0]\n",
      " [1 1 0 0]\n",
      " [0 0 0 1]\n",
      " [1 1 0 1]\n",
      " [0 0 1 1]\n",
      " [1 0 0 1]\n",
      " [0 1 1 1]\n",
      " [1 1 1 0]\n",
      " [1 1 1 1]\n",
      " [1 0 0 0]]\n",
      "The shape of X_train: (10, 4)\n"
     ]
    }
   ],
   "source": [
    "print(X_train)\n",
    "print(\"The shape of X_train:\", X_train.shape)"
   ]
  },
  {
   "cell_type": "code",
   "execution_count": 3,
   "metadata": {},
   "outputs": [
    {
     "name": "stdout",
     "output_type": "stream",
     "text": [
      "[1 1 0 1 0 0 0 1 1 1]\n",
      "The shape of y_train: (10,)\n"
     ]
    }
   ],
   "source": [
    "print(y_train)\n",
    "print(\"The shape of y_train:\", y_train.shape)"
   ]
  },
  {
   "cell_type": "markdown",
   "metadata": {},
   "source": [
    "Use `y_train` to learn the two class priors."
   ]
  },
  {
   "cell_type": "code",
   "execution_count": 4,
   "metadata": {},
   "outputs": [],
   "source": [
    "# training: compute the priors\n",
    "\n",
    "#### complete the task here"
   ]
  },
  {
   "cell_type": "markdown",
   "metadata": {},
   "source": [
    "Since our features are boolean, we opt for Bernoulli naive Bayes model. Use `X_train` and `y_train` to learn the parameters of the Bernoulli distributions (the success probabilities).\n",
    "\n",
    "*Hint: There are $8$ parameters to learn.*"
   ]
  },
  {
   "cell_type": "code",
   "execution_count": 5,
   "metadata": {},
   "outputs": [],
   "source": [
    "# training: compute the likelihood prarameters\n",
    "\n",
    "#### complete the task here"
   ]
  },
  {
   "cell_type": "markdown",
   "metadata": {},
   "source": [
    "Now consider the following test dataset `X_test` which contains two feature vectors. Apply your trained model above to predict the labels of `X_test`.\n",
    "\n",
    "*Hint: Apply the MAP rule.*"
   ]
  },
  {
   "cell_type": "code",
   "execution_count": 6,
   "metadata": {},
   "outputs": [
    {
     "name": "stdout",
     "output_type": "stream",
     "text": [
      "[[0 1 1 0]\n",
      " [1 0 1 0]]\n"
     ]
    }
   ],
   "source": [
    "X_test = np.array([[0,1,1,0],[1,0,1,0]])\n",
    "print(X_test)"
   ]
  },
  {
   "cell_type": "code",
   "execution_count": 7,
   "metadata": {},
   "outputs": [],
   "source": [
    "# prediction/testing\n",
    "\n",
    "#### complete the task here"
   ]
  },
  {
   "cell_type": "markdown",
   "metadata": {},
   "source": [
    "### Exercise 2: Gaussian Naive Bayes for Iris Flowers classification"
   ]
  },
  {
   "cell_type": "markdown",
   "metadata": {},
   "source": [
    "In this exercise, you will implement another variant of naive Bayes classifier which is the Gaussian naive Bayes. The task here is to classify the \"Iris flowers\" into three different classes: \"Setosa Iris', 'Versicolor Iris', 'Virginica Iris' labeled as 0, 1 , 2 respectively. The feature vector is made of four features: the length and the width of the flower's sepals and petals in centimeters. Let's load the data first and have a look into it."
   ]
  },
  {
   "cell_type": "code",
   "execution_count": 8,
   "metadata": {},
   "outputs": [],
   "source": [
    "# import the dataset\n",
    "from sklearn.datasets import load_iris\n",
    "from sklearn.model_selection import train_test_split\n",
    "X, y = load_iris(return_X_y=True)\n",
    "X_train, X_test, y_train, y_test = train_test_split(X, y, test_size=0.33, random_state=42)"
   ]
  },
  {
   "cell_type": "code",
   "execution_count": 9,
   "metadata": {},
   "outputs": [
    {
     "name": "stdout",
     "output_type": "stream",
     "text": [
      "The shape of X_train: (100, 4)\n",
      "The shape of y_train: (100,)\n"
     ]
    }
   ],
   "source": [
    "print(\"The shape of X_train:\", X_train.shape)\n",
    "print(\"The shape of y_train:\", y_train.shape)"
   ]
  },
  {
   "cell_type": "markdown",
   "metadata": {},
   "source": [
    "Let's now try to visualize `X_train` and `y_train` using two features out of four."
   ]
  },
  {
   "cell_type": "code",
   "execution_count": 10,
   "metadata": {},
   "outputs": [
    {
     "data": {
      "text/plain": [
       "<matplotlib.legend.Legend at 0x1a1a3647b8>"
      ]
     },
     "execution_count": 10,
     "metadata": {},
     "output_type": "execute_result"
    },
    {
     "data": {
      "image/png": "[encoded data removed]",
      "text/plain": [
       "<Figure size 432x288 with 1 Axes>"
      ]
     },
     "metadata": {},
     "output_type": "display_data"
    }
   ],
   "source": [
    "# visualize the training dataset based on two features\n",
    "import matplotlib.pyplot as plt\n",
    "% matplotlib inline\n",
    "\n",
    "fig, ax = plt.subplots()\n",
    "scatter = ax.scatter(X_train[:,1], X_train[:,2], c=y_train)\n",
    "legend1 = ax.legend(*scatter.legend_elements(),\n",
    "                    loc=\"upper right\", title=\"Classes\")\n",
    "ax.add_artist(legend1)"
   ]
  },
  {
   "cell_type": "markdown",
   "metadata": {},
   "source": [
    "You can clearly see the three classes in the plot above. Moreover, you can notice that the features are continuous (as opposed to discrete boolean features in the previous example). Therefore, we opt for Gaussian naive Bayes since it is natural here to consider that each feature follows a Gaussian distribution with a certain mean and variance\n",
    "\n",
    "$$P(x_i\\mid C_k) = \\frac{1}{\\sqrt{2 \\pi \\sigma_{k}^2}} \\, e^{-\\frac{(x_i-\\mu_{ik})^2}{2\\sigma_{ik}^2}}.$$"
   ]
  },
  {
   "cell_type": "markdown",
   "metadata": {},
   "source": [
    "Although we haven't explicitly mentioned how to learn the parameters of the Gaussian parameters, you will see in the following that this is a simple task. Let's first learn the three class priors using `y_train` as we have done before."
   ]
  },
  {
   "cell_type": "code",
   "execution_count": 11,
   "metadata": {},
   "outputs": [],
   "source": [
    "# training: compute the priors\n",
    "\n",
    "#### complete the task here"
   ]
  },
  {
   "cell_type": "markdown",
   "metadata": {},
   "source": [
    "Now you need to use ``X_train`` and ``y_train`` to learn the parameters of the Gaussian distributions. Note that we have $3$ classes and $4$ features, hence you need to learn $12$ Gaussian distributions (on for each $i$ and $k$). Since each Gaussian distribution is defined by two parameters (the mean $\\mu_{ik}$ and the variance $\\sigma_{ik}^2$), you need to learn $24$ parameters in total. These parameters are nothing but the statistical means and variances derived from the training dataset (i.e. maximum likelihood estimates) with:\n",
    "\n",
    "$$\\mu_{ik} = \\frac{1}{\\mid I_k \\mid} \\sum_{m \\in I_k}x_i^m, \\quad \\sigma_{ik}^2 = \\frac{1}{\\mid I_k \\mid} \\sum_{m \\in I_k}(x_i^m - \\mu_{ik})^2 \\quad \\text{for} \\, i = 1,...,n=4 \\, \\text{and} \\, k = 1,...,K=3$$"
   ]
  },
  {
   "cell_type": "markdown",
   "metadata": {},
   "source": [
    "where $I_k$ is set of indices in the training dataset of the instances with label $k$. This means that the sum is over the rows in the ``X_train`` (it is not over all the rows, but it is over the rows that have the label $k$). $\\mid I_k \\mid$ is the number of instances in the training dataset with label $k$."
   ]
  },
  {
   "cell_type": "markdown",
   "metadata": {},
   "source": [
    "Implement the two formulas above to learn $\\mu_{ik}$ and $\\sigma_{ik}^2$ for all the features and all the classes. Note that $\\sigma_{ik}^2$ depends on $\\mu_{ik}$, hence you need to compute the $\\mu$'s first then the $\\sigma^2$'s.\n",
    "\n",
    "*Hint: You need to compute $12$ different means and $12$ different variances.*\n",
    "\n",
    "> Note: Here you need to learn the parameters of the Gaussian naive Bayes from scratch by implementing the formulas above without using the `sklearn.naive_bayes.GaussianNB` ready implementation from the scikit-learn library. However, if you are familiar with such library, you can use it to check the correctness of your results."
   ]
  },
  {
   "cell_type": "code",
   "execution_count": 12,
   "metadata": {},
   "outputs": [],
   "source": [
    "# training: compute the likelihood prarameters\n",
    "\n",
    "#### complete the task here"
   ]
  },
  {
   "cell_type": "markdown",
   "metadata": {},
   "source": [
    "Now apply your trained model above to predict the labels of ``X_test`` and compare the results with the ground the true values `y_test`.\n",
    "\n",
    "*Hint: Apply the MAP rule.*"
   ]
  },
  {
   "cell_type": "code",
   "execution_count": 13,
   "metadata": {},
   "outputs": [],
   "source": [
    "# prediction/testing\n",
    "\n",
    "#### complete the task here"
   ]
  }
 ],
 "metadata": {
  "kernelspec": {
   "display_name": "Python 3",
   "language": "python",
   "name": "python3"
  },
  "language_info": {
   "codemirror_mode": {
    "name": "ipython",
    "version": 3
   },
   "file_extension": ".py",
   "mimetype": "text/x-python",
   "name": "python",
   "nbconvert_exporter": "python",
   "pygments_lexer": "ipython3",
   "version": "3.6.8"
  }
 },
 "nbformat": 4,
 "nbformat_minor": 2
}
